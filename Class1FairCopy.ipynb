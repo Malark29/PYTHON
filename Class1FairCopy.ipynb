{
 "cells": [
  {
   "cell_type": "code",
   "execution_count": 2,
   "id": "b9f72eb9-bb4a-4df1-bd11-ab0cae739160",
   "metadata": {},
   "outputs": [
    {
     "name": "stdin",
     "output_type": "stream",
     "text": [
      "Height= 32\n",
      "Breadth= 34\n"
     ]
    },
    {
     "name": "stdout",
     "output_type": "stream",
     "text": [
      "Area formula =(Height*Breadth)/2\n",
      "Area of the triangle =  544.0\n"
     ]
    },
    {
     "name": "stdin",
     "output_type": "stream",
     "text": [
      "Height1= 2\n",
      "Height2= 4\n",
      "Breadth= 4\n"
     ]
    },
    {
     "name": "stdout",
     "output_type": "stream",
     "text": [
      "Perimeter formula=(Height1+Height2+Breadth)\n",
      "Perimete of the tringle =  10\n"
     ]
    }
   ],
   "source": [
    "from allmultiplesfunctions import SubfieldsInAI"
   ]
  },
  {
   "cell_type": "code",
   "execution_count": 5,
   "id": "25074610-02ba-49ac-9603-e17033391a23",
   "metadata": {},
   "outputs": [],
   "source": [
    "from allmultiplesfunctions import OddEven"
   ]
  },
  {
   "cell_type": "code",
   "execution_count": 6,
   "id": "fc57a985-c60f-4c64-94e6-46551f9763fc",
   "metadata": {},
   "outputs": [
    {
     "name": "stdin",
     "output_type": "stream",
     "text": [
      "Enter a number: 52452\n"
     ]
    },
    {
     "name": "stdout",
     "output_type": "stream",
     "text": [
      "52452 is Even number\n"
     ]
    },
    {
     "data": {
      "text/plain": [
       "'52452 is Even number'"
      ]
     },
     "execution_count": 6,
     "metadata": {},
     "output_type": "execute_result"
    }
   ],
   "source": [
    "OddEven.OddEven()"
   ]
  },
  {
   "cell_type": "code",
   "execution_count": 7,
   "id": "73539069-8f94-40a9-a796-7d53ea1fc9a6",
   "metadata": {},
   "outputs": [],
   "source": [
    "from allmultiplesfunctions import EligibilityForMarriage"
   ]
  },
  {
   "cell_type": "code",
   "execution_count": 9,
   "id": "719a71e2-6b48-4b06-9d49-15adc300b7ec",
   "metadata": {},
   "outputs": [
    {
     "name": "stdin",
     "output_type": "stream",
     "text": [
      "Your Gender: Female\n",
      "Your Age: 17\n"
     ]
    },
    {
     "name": "stdout",
     "output_type": "stream",
     "text": [
      "NOT ELIGIBLE\n"
     ]
    },
    {
     "data": {
      "text/plain": [
       "'NOT ELIGIBLE'"
      ]
     },
     "execution_count": 9,
     "metadata": {},
     "output_type": "execute_result"
    }
   ],
   "source": [
    "EligibilityForMarriage.Elegible()"
   ]
  },
  {
   "cell_type": "code",
   "execution_count": 10,
   "id": "d2ec7f06-6c40-464e-941a-c00a1ea387df",
   "metadata": {},
   "outputs": [],
   "source": [
    "from allmultiplesfunctions import FindPercent"
   ]
  },
  {
   "cell_type": "code",
   "execution_count": 11,
   "id": "dcc21e43-89e2-49a8-949a-d1b2ca3c5c99",
   "metadata": {},
   "outputs": [
    {
     "name": "stdout",
     "output_type": "stream",
     "text": [
      "Findpercent.percentage()\n"
     ]
    },
    {
     "name": "stdin",
     "output_type": "stream",
     "text": [
      "Subject1= 98\n",
      "Subject2= 87\n",
      "Subject3= 78\n",
      "Subject4= 60\n",
      "Subject5= 99\n"
     ]
    },
    {
     "name": "stdout",
     "output_type": "stream",
     "text": [
      "\n",
      "Total Score:  422\n",
      "Percentage=  84.39999999999999 %\n"
     ]
    }
   ],
   "source": [
    "FindPercent.percentage()"
   ]
  },
  {
   "cell_type": "code",
   "execution_count": null,
   "id": "6c4efa66-c24f-4aa0-a96f-ca5b74b5c27e",
   "metadata": {},
   "outputs": [],
   "source": []
  }
 ],
 "metadata": {
  "kernelspec": {
   "display_name": "Python 3 (ipykernel)",
   "language": "python",
   "name": "python3"
  },
  "language_info": {
   "codemirror_mode": {
    "name": "ipython",
    "version": 3
   },
   "file_extension": ".py",
   "mimetype": "text/x-python",
   "name": "python",
   "nbconvert_exporter": "python",
   "pygments_lexer": "ipython3",
   "version": "3.12.7"
  }
 },
 "nbformat": 4,
 "nbformat_minor": 5
}
