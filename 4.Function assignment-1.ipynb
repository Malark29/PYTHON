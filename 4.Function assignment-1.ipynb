{
 "cells": [
  {
   "cell_type": "code",
   "execution_count": 1,
   "id": "9fcb8e72-dfc9-4756-b6ad-27fd66ea9090",
   "metadata": {},
   "outputs": [],
   "source": [
    "#create a class and function,and list out the items in the list"
   ]
  },
  {
   "cell_type": "code",
   "execution_count": 2,
   "id": "894de2f6-8e44-4724-bcee-b798852e838c",
   "metadata": {},
   "outputs": [],
   "source": [
    "def Subfields():\n",
    "    print(\"Subfields AI are:\")\n",
    "    items=[\"Machine Learning\", \"Nural Network\", \"Vision\", \"Robotics\", \"Speech Processing\", \"Natural Language Processing\"]\n",
    "    for lists in items:\n",
    "        print(lists)"
   ]
  },
  {
   "cell_type": "code",
   "execution_count": 3,
   "id": "972a7edb-bb49-475c-9274-4632ca3ce912",
   "metadata": {},
   "outputs": [
    {
     "name": "stdout",
     "output_type": "stream",
     "text": [
      "Subfields AI are:\n",
      "Machine Learning\n",
      "Nural Network\n",
      "Vision\n",
      "Robotics\n",
      "Speech Processing\n",
      "Natural Language Processing\n"
     ]
    }
   ],
   "source": [
    "Subfields()"
   ]
  },
  {
   "cell_type": "code",
   "execution_count": 4,
   "id": "a9d7c7f4-58f4-4263-bb3f-4166c3018630",
   "metadata": {},
   "outputs": [],
   "source": [
    "#Create a function that checks Whether the given number is odd or Even"
   ]
  },
  {
   "cell_type": "code",
   "execution_count": 5,
   "id": "7cedd91b-d702-4e16-a121-fbaada8ae7cf",
   "metadata": {},
   "outputs": [],
   "source": [
    "def OddEven():\n",
    "    num=int(input(\"Enter a number:\"))\n",
    "    if((num%2)==1):\n",
    "        print(\"Odd number\")\n",
    "        message=\"Odd number\"\n",
    "    else:\n",
    "        print(\"52452 is Even number\")\n",
    "        message=\"52452 is Even number\"\n",
    "    return message    "
   ]
  },
  {
   "cell_type": "code",
   "execution_count": 6,
   "id": "55434510-14e2-4b96-b045-1aff4339dbfb",
   "metadata": {},
   "outputs": [
    {
     "name": "stdin",
     "output_type": "stream",
     "text": [
      "Enter a number: 52452\n"
     ]
    },
    {
     "name": "stdout",
     "output_type": "stream",
     "text": [
      "52452 is Even number\n"
     ]
    },
    {
     "data": {
      "text/plain": [
       "'52452 is Even number'"
      ]
     },
     "execution_count": 6,
     "metadata": {},
     "output_type": "execute_result"
    }
   ],
   "source": [
    "OddEven()"
   ]
  },
  {
   "cell_type": "code",
   "execution_count": 7,
   "id": "fa3bbc3f-22d5-4a47-99a8-cd73a8768dd0",
   "metadata": {},
   "outputs": [],
   "source": [
    "#Create a function that tells elegibility of marriage for male and female according to their age limit like 21 for male and 18 for female"
   ]
  },
  {
   "cell_type": "code",
   "execution_count": 8,
   "id": "d2099d6e-f601-4357-809d-f6c9778adc41",
   "metadata": {},
   "outputs": [],
   "source": [
    "def EligibilityForMarriage():\n",
    "    name=input(\"Your Gender:\")\n",
    "    age=int(input(\"Your Age:\"))\n",
    "    if(age<21)==\"male\":\n",
    "        print(\"ELIGIBLE\")\n",
    "        cate=\"ELIGIBLE\"\n",
    "    elif(age<18)==\"female\":\n",
    "        print(\"ELIGIBLE\")\n",
    "        message=\"ELIGIBLE\"\n",
    "    else:\n",
    "        print(\"NOT ELIGIBLE\")\n",
    "        cate=\"NOT ELIGIBLE\"\n",
    "    return cate"
   ]
  },
  {
   "cell_type": "code",
   "execution_count": 9,
   "id": "9a555e94-7b4a-4b8c-888c-bd0ebb4516ee",
   "metadata": {},
   "outputs": [
    {
     "name": "stdin",
     "output_type": "stream",
     "text": [
      "Your Gender: Male\n",
      "Your Age: 20\n"
     ]
    },
    {
     "name": "stdout",
     "output_type": "stream",
     "text": [
      "NOT ELIGIBLE\n"
     ]
    },
    {
     "data": {
      "text/plain": [
       "'NOT ELIGIBLE'"
      ]
     },
     "execution_count": 9,
     "metadata": {},
     "output_type": "execute_result"
    }
   ],
   "source": [
    "EligibilityForMarriage()"
   ]
  },
  {
   "cell_type": "code",
   "execution_count": 10,
   "id": "ff971c07-b2ca-4389-bfbc-3c1816d9feeb",
   "metadata": {},
   "outputs": [],
   "source": [
    "#Calculate the percentage of your 10th mark"
   ]
  },
  {
   "cell_type": "code",
   "execution_count": 11,
   "id": "66ae885e-b2ad-45a3-a95a-36ec3bced4e2",
   "metadata": {},
   "outputs": [],
   "source": [
    "def percentage():\n",
    "    print(\"Findpercent.percentage()\")\n",
    "    Tamil=int(input(\"Subject1=\"))\n",
    "    English=int(input(\"Subject2=\"))\n",
    "    Maths=int(input(\"Subject3=\"))\n",
    "    Social=int(input(\"Subject4=\"))\n",
    "    Science=int(input(\"Subject5=\"))\n",
    "    print()\n",
    "    total=Tamil+English+Maths+Social+Science\n",
    "    print(\"Total Score: \",total)\n",
    "    percentage = (total/500)*100\n",
    "    print(\"Percentage= \",percentage,\"%\")"
   ]
  },
  {
   "cell_type": "code",
   "execution_count": 12,
   "id": "ca3681cc-bdd2-4344-a012-ae1f0d2925b5",
   "metadata": {},
   "outputs": [
    {
     "name": "stdout",
     "output_type": "stream",
     "text": [
      "Findpercent.percentage()\n"
     ]
    },
    {
     "name": "stdin",
     "output_type": "stream",
     "text": [
      "Subject1= 89\n",
      "Subject2= 95\n",
      "Subject3= 95\n",
      "Subject4= 97\n",
      "Subject5= 93\n"
     ]
    },
    {
     "name": "stdout",
     "output_type": "stream",
     "text": [
      "\n",
      "Total Score:  469\n",
      "Percentage=  93.8 %\n"
     ]
    }
   ],
   "source": [
    "percentage()"
   ]
  },
  {
   "cell_type": "code",
   "execution_count": 13,
   "id": "f334db7f-08b8-4ffe-b9a3-3503f96cf92d",
   "metadata": {},
   "outputs": [],
   "source": [
    "#print area and perimeter of triangle using class and function"
   ]
  },
  {
   "cell_type": "code",
   "execution_count": 18,
   "id": "e706a9e8-1bea-4d73-a9a7-7aa94eb36749",
   "metadata": {},
   "outputs": [
    {
     "name": "stdin",
     "output_type": "stream",
     "text": [
      "Height= 32\n",
      "Breadth= 34\n"
     ]
    },
    {
     "name": "stdout",
     "output_type": "stream",
     "text": [
      "Area formula =(Height*Breadth)/2\n",
      "Area of the triangle =  544.0\n"
     ]
    },
    {
     "name": "stdin",
     "output_type": "stream",
     "text": [
      "Height1= 2\n",
      "Height2= 4\n",
      "Breadth= 4\n"
     ]
    },
    {
     "name": "stdout",
     "output_type": "stream",
     "text": [
      "Perimeter formula=(Height1+Height2+Breadth)\n",
      "Perimete of the tringle =  10\n"
     ]
    }
   ],
   "source": [
    "def area():\n",
    "    Height=int(input(\"Height=\"))\n",
    "    Breadth=int(input(\"Breadth=\"))\n",
    "    print(\"Area formula =(Height*Breadth)/2\")\n",
    "    Area=(Height*Breadth)/2\n",
    "    return Area\n",
    "\n",
    "def perimeter():\n",
    "    Height1=int(input(\"Height1=\"))\n",
    "    Height2=int(input(\"Height2=\"))\n",
    "    Breadth=int(input(\"Breadth=\"))\n",
    "    print(\"Perimeter formula=(Height1+Height2+Breadth)\")\n",
    "    Perimeter=(Height1+Height2+Breadth)\n",
    "    return Perimeter\n",
    "\n",
    "#call the function and print the result\n",
    "\n",
    "print(\"Area of the triangle = \", area())\n",
    "print(\"Perimete of the tringle = \", perimeter())"
   ]
  },
  {
   "cell_type": "code",
   "execution_count": null,
   "id": "dcad011b-aa4b-4dda-b4d1-df313b431f62",
   "metadata": {},
   "outputs": [],
   "source": []
  }
 ],
 "metadata": {
  "kernelspec": {
   "display_name": "Python 3 (ipykernel)",
   "language": "python",
   "name": "python3"
  },
  "language_info": {
   "codemirror_mode": {
    "name": "ipython",
    "version": 3
   },
   "file_extension": ".py",
   "mimetype": "text/x-python",
   "name": "python",
   "nbconvert_exporter": "python",
   "pygments_lexer": "ipython3",
   "version": "3.12.7"
  }
 },
 "nbformat": 4,
 "nbformat_minor": 5
}
