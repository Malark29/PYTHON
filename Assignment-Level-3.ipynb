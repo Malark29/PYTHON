{
 "cells": [
  {
   "cell_type": "code",
   "execution_count": 1,
   "id": "73f4b8f7-3a9a-40e7-9f92-93357d5f8bfe",
   "metadata": {},
   "outputs": [],
   "source": [
    "#print 'correct' if i == 10"
   ]
  },
  {
   "cell_type": "code",
   "execution_count": 5,
   "id": "6c8a7d00-cd9d-41a1-96e0-b478df1ea16d",
   "metadata": {},
   "outputs": [
    {
     "name": "stdin",
     "output_type": "stream",
     "text": [
      "Value: 10\n"
     ]
    },
    {
     "name": "stdout",
     "output_type": "stream",
     "text": [
      "Correct\n"
     ]
    }
   ],
   "source": [
    "i=int(input(\"Value:\"))\n",
    "if(i==10):\n",
    "    print(\"Correct\")"
   ]
  },
  {
   "cell_type": "code",
   "execution_count": 6,
   "id": "14813132-68b6-4784-8b8b-64cd0f2a17a3",
   "metadata": {},
   "outputs": [],
   "source": [
    "#Check the password, using if and else"
   ]
  },
  {
   "cell_type": "code",
   "execution_count": 23,
   "id": "f76913a4-2cbf-4ffb-83ed-5fd9e5daba28",
   "metadata": {},
   "outputs": [
    {
     "name": "stdin",
     "output_type": "stream",
     "text": [
      "Enter the Password: HOPE@123\n"
     ]
    },
    {
     "name": "stdout",
     "output_type": "stream",
     "text": [
      "Your password is correct\n"
     ]
    }
   ],
   "source": [
    "correct_password=(\"HOPE@123\")\n",
    "entered_password=input(\"Enter the Password:\")\n",
    "if entered_password==correct_password:\n",
    "   print(\"Your password is correct\")\n",
    "else:\n",
    "    print(\"Your password is incorrect\")"
   ]
  },
  {
   "cell_type": "code",
   "execution_count": 24,
   "id": "ad209bcd-a953-40cc-b9a9-7172c0a0a05c",
   "metadata": {},
   "outputs": [],
   "source": [
    "#Catagory the people by their age like children, adult, citizen, senior citizen"
   ]
  },
  {
   "cell_type": "code",
   "execution_count": 29,
   "id": "a7488b25-c3d4-41f2-b4eb-324cd76a61f9",
   "metadata": {},
   "outputs": [
    {
     "name": "stdin",
     "output_type": "stream",
     "text": [
      "age: 20\n"
     ]
    },
    {
     "name": "stdout",
     "output_type": "stream",
     "text": [
      "Adult\n"
     ]
    }
   ],
   "source": [
    "age=int(input(\"age:\"))\n",
    "if(age<20):\n",
    "    print(\"Children\")\n",
    "elif(age<35):\n",
    "    print(\"Adult\")\n",
    "elif(age<59):\n",
    "    print(\"Citizen\")\n",
    "else:\n",
    "    print(\"Senior Citizen\")"
   ]
  },
  {
   "cell_type": "code",
   "execution_count": 30,
   "id": "fa097219-e67c-47ad-805d-14d09e040d8b",
   "metadata": {},
   "outputs": [],
   "source": [
    "#find whether given number is positive or negative"
   ]
  },
  {
   "cell_type": "code",
   "execution_count": 31,
   "id": "e3dea535-7e5b-4c04-bd17-4110bd3201a8",
   "metadata": {},
   "outputs": [
    {
     "name": "stdin",
     "output_type": "stream",
     "text": [
      "Enter any number: 1\n"
     ]
    },
    {
     "name": "stdout",
     "output_type": "stream",
     "text": [
      "No is positive\n"
     ]
    }
   ],
   "source": [
    "number=int(input(\"Enter any number:\"))\n",
    "if(number>0):\n",
    "    print(\"No is positive\")\n",
    "elif(number<0):\n",
    "    print(\"No is negative\")\n",
    "else:\n",
    "    print(\"No is not find\")"
   ]
  },
  {
   "cell_type": "code",
   "execution_count": 32,
   "id": "8ed967d4-9edc-46f0-bd96-7b8727d66fbe",
   "metadata": {},
   "outputs": [],
   "source": [
    "#Check whether the given number is divisible by 5"
   ]
  },
  {
   "cell_type": "code",
   "execution_count": 37,
   "id": "f195fdf1-8d37-4bfa-b3cb-aae7d4dca936",
   "metadata": {},
   "outputs": [
    {
     "name": "stdin",
     "output_type": "stream",
     "text": [
      "Enter a number to check: 1\n"
     ]
    },
    {
     "name": "stdout",
     "output_type": "stream",
     "text": [
      "No is not divisible by 5\n"
     ]
    }
   ],
   "source": [
    "num=int(input(\"Enter a number to check:\"))\n",
    "if((num%5)==0):\n",
    "    print(\"No is divisible by 5\")\n",
    "else:\n",
    "    print(\"No is not divisible by 5\")"
   ]
  },
  {
   "cell_type": "code",
   "execution_count": null,
   "id": "5139074c-54a6-4de0-890a-32baa319423b",
   "metadata": {},
   "outputs": [],
   "source": []
  }
 ],
 "metadata": {
  "kernelspec": {
   "display_name": "Python 3 (ipykernel)",
   "language": "python",
   "name": "python3"
  },
  "language_info": {
   "codemirror_mode": {
    "name": "ipython",
    "version": 3
   },
   "file_extension": ".py",
   "mimetype": "text/x-python",
   "name": "python",
   "nbconvert_exporter": "python",
   "pygments_lexer": "ipython3",
   "version": "3.12.7"
  }
 },
 "nbformat": 4,
 "nbformat_minor": 5
}
