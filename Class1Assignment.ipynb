{
 "cells": [
  {
   "cell_type": "code",
   "execution_count": 5,
   "id": "8e4b5d05-1087-4997-864f-9363eccd2e39",
   "metadata": {},
   "outputs": [],
   "source": [
    "class SubfieldsInAI():\n",
    "    def Subfields():\n",
    "        print(\"Subfields AI are:\")\n",
    "        items=[\"Machine Learning\", \"Nural Network\", \"Vision\", \"Robotics\", \"Speech Processing\", \"Natural Language Processing\"]\n",
    "        for lists in items:\n",
    "            print(lists)"
   ]
  },
  {
   "cell_type": "code",
   "execution_count": 7,
   "id": "ba0a610f-a220-47fa-9c0d-1f38860b8712",
   "metadata": {},
   "outputs": [
    {
     "name": "stdout",
     "output_type": "stream",
     "text": [
      "Subfields AI are:\n",
      "Machine Learning\n",
      "Nural Network\n",
      "Vision\n",
      "Robotics\n",
      "Speech Processing\n",
      "Natural Language Processing\n"
     ]
    }
   ],
   "source": [
    "SubfieldsInAI.Subfields()"
   ]
  },
  {
   "cell_type": "code",
   "execution_count": 8,
   "id": "9df5499b-4388-4489-bd7c-28616f34861c",
   "metadata": {},
   "outputs": [],
   "source": [
    "class OddEven():   \n",
    "    def OddEven():\n",
    "        num=int(input(\"Enter a number:\"))\n",
    "        if((num%2)==1):\n",
    "            print(\"Odd number\")\n",
    "            message=\"Odd number\"\n",
    "        else:\n",
    "            print(\"52452 is Even number\")\n",
    "            message=\"52452 is Even number\"\n",
    "        return message    "
   ]
  },
  {
   "cell_type": "code",
   "execution_count": 9,
   "id": "fa2e6c8b-a5f0-4579-af49-f91ed808b0ab",
   "metadata": {},
   "outputs": [
    {
     "name": "stdin",
     "output_type": "stream",
     "text": [
      "Enter a number: 52452\n"
     ]
    },
    {
     "name": "stdout",
     "output_type": "stream",
     "text": [
      "52452 is Even number\n"
     ]
    },
    {
     "data": {
      "text/plain": [
       "'52452 is Even number'"
      ]
     },
     "execution_count": 9,
     "metadata": {},
     "output_type": "execute_result"
    }
   ],
   "source": [
    "OddEven.OddEven()"
   ]
  },
  {
   "cell_type": "code",
   "execution_count": 12,
   "id": "5eceafbc-6d29-4334-97fe-b77bf198c8d6",
   "metadata": {},
   "outputs": [],
   "source": [
    "class EligibilityForMarriage():\n",
    "    def Elegible():\n",
    "        name=input(\"Your Gender:\")\n",
    "        age=int(input(\"Your Age:\"))\n",
    "        if(age<21)==\"male\":\n",
    "            print(\"ELIGIBLE\")\n",
    "            cate=\"ELIGIBLE\"\n",
    "        elif(age<18)==\"female\":\n",
    "            print(\"ELIGIBLE\")\n",
    "            message=\"ELIGIBLE\"\n",
    "        else:\n",
    "            print(\"NOT ELIGIBLE\")\n",
    "            cate=\"NOT ELIGIBLE\"\n",
    "        return cate"
   ]
  },
  {
   "cell_type": "code",
   "execution_count": 13,
   "id": "aa4e2263-250a-40b0-b286-667a9aad1555",
   "metadata": {},
   "outputs": [
    {
     "name": "stdin",
     "output_type": "stream",
     "text": [
      "Your Gender: Male\n",
      "Your Age: 20\n"
     ]
    },
    {
     "name": "stdout",
     "output_type": "stream",
     "text": [
      "NOT ELIGIBLE\n"
     ]
    },
    {
     "data": {
      "text/plain": [
       "'NOT ELIGIBLE'"
      ]
     },
     "execution_count": 13,
     "metadata": {},
     "output_type": "execute_result"
    }
   ],
   "source": [
    "EligibilityForMarriage.Elegible()"
   ]
  },
  {
   "cell_type": "code",
   "execution_count": 14,
   "id": "992b1961-e02e-4899-bf22-2547f826e24c",
   "metadata": {},
   "outputs": [],
   "source": [
    "class FindPercent():\n",
    "    def percentage():\n",
    "        print(\"Findpercent.percentage()\")\n",
    "        Tamil=int(input(\"Subject1=\"))\n",
    "        English=int(input(\"Subject2=\"))\n",
    "        Maths=int(input(\"Subject3=\"))\n",
    "        Social=int(input(\"Subject4=\"))\n",
    "        Science=int(input(\"Subject5=\"))\n",
    "        print()\n",
    "        total=Tamil+English+Maths+Social+Science\n",
    "        print(\"Total Score: \",total)\n",
    "        percentage = (total/500)*100\n",
    "        print(\"Percentage= \",percentage,\"%\")"
   ]
  },
  {
   "cell_type": "code",
   "execution_count": 15,
   "id": "9fb3157d-9c97-4af8-98f0-cb51cacd6568",
   "metadata": {},
   "outputs": [
    {
     "name": "stdout",
     "output_type": "stream",
     "text": [
      "Findpercent.percentage()\n"
     ]
    },
    {
     "name": "stdin",
     "output_type": "stream",
     "text": [
      "Subject1= 98\n",
      "Subject2= 95\n",
      "Subject3= 95\n",
      "Subject4= 97\n",
      "Subject5= 93\n"
     ]
    },
    {
     "name": "stdout",
     "output_type": "stream",
     "text": [
      "\n",
      "Total Score:  478\n",
      "Percentage=  95.6 %\n"
     ]
    }
   ],
   "source": [
    "FindPercent.percentage()"
   ]
  },
  {
   "cell_type": "code",
   "execution_count": 18,
   "id": "5b5c3580-ff96-4ff7-bcf3-9be9a87f9598",
   "metadata": {},
   "outputs": [
    {
     "name": "stdin",
     "output_type": "stream",
     "text": [
      "Height= 32\n",
      "Breadth= 34\n"
     ]
    },
    {
     "name": "stdout",
     "output_type": "stream",
     "text": [
      "Area formula =(Height*Breadth)/2\n",
      "Area of the triangle =  544.0\n"
     ]
    },
    {
     "name": "stdin",
     "output_type": "stream",
     "text": [
      "Height1= 2\n",
      "Height2= 4\n",
      "Breadth= 4\n"
     ]
    },
    {
     "name": "stdout",
     "output_type": "stream",
     "text": [
      "Perimeter formula=(Height1+Height2+Breadth)\n",
      "Perimete of the tringle =  10\n"
     ]
    }
   ],
   "source": [
    "class triangle():\n",
    "    def area():\n",
    "        Height=int(input(\"Height=\"))\n",
    "        Breadth=int(input(\"Breadth=\"))\n",
    "        print(\"Area formula =(Height*Breadth)/2\")\n",
    "        Area=(Height*Breadth)/2\n",
    "        return Area\n",
    "    \n",
    "    def perimeter():\n",
    "        Height1=int(input(\"Height1=\"))\n",
    "        Height2=int(input(\"Height2=\"))\n",
    "        Breadth=int(input(\"Breadth=\"))\n",
    "        print(\"Perimeter formula=(Height1+Height2+Breadth)\")\n",
    "        Perimeter=(Height1+Height2+Breadth)\n",
    "        return Perimeter\n",
    "    \n",
    "    #call the function and print the result\n",
    "    \n",
    "    print(\"Area of the triangle = \", area())\n",
    "    print(\"Perimete of the tringle = \", perimeter())"
   ]
  },
  {
   "cell_type": "code",
   "execution_count": null,
   "id": "4dd44ab8-c8ca-4b0e-a365-cafac8c8f549",
   "metadata": {},
   "outputs": [],
   "source": []
  }
 ],
 "metadata": {
  "kernelspec": {
   "display_name": "Python 3 (ipykernel)",
   "language": "python",
   "name": "python3"
  },
  "language_info": {
   "codemirror_mode": {
    "name": "ipython",
    "version": 3
   },
   "file_extension": ".py",
   "mimetype": "text/x-python",
   "name": "python",
   "nbconvert_exporter": "python",
   "pygments_lexer": "ipython3",
   "version": "3.12.7"
  }
 },
 "nbformat": 4,
 "nbformat_minor": 5
}
