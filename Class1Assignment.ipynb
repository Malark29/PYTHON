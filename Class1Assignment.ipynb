{
 "cells": [
  {
   "cell_type": "code",
   "execution_count": 23,
   "id": "8e4b5d05-1087-4997-864f-9363eccd2e39",
   "metadata": {},
   "outputs": [],
   "source": [
    "class allmultiplesfunctions():\n",
    "    def Subfields():\n",
    "        print(\"Subfields AI are:\")\n",
    "        items=[\"Machine Learning\", \"Nural Network\", \"Vision\", \"Robotics\", \"Speech Processing\", \"Natural Language Processing\"]\n",
    "        for lists in items:\n",
    "            print(lists)\n",
    "\n",
    "    def OddEven():\n",
    "        num=int(input(\"Enter a number:\"))\n",
    "        if((num%2)==1):\n",
    "            print(\"Odd number\")\n",
    "            message=\"Odd number\"\n",
    "        else:\n",
    "            print(\"52452 is Even number\")\n",
    "            message=\"52452 is Even number\"\n",
    "        return message    \n",
    "\n",
    "    def Elegible():\n",
    "        name=input(\"Your Gender:\")\n",
    "        age=int(input(\"Your Age:\"))\n",
    "        if(age<21)==\"male\":\n",
    "            print(\"ELIGIBLE\")\n",
    "            cate=\"ELIGIBLE\"\n",
    "        elif(age<18)==\"female\":\n",
    "            print(\"ELIGIBLE\")\n",
    "            message=\"ELIGIBLE\"\n",
    "        else:\n",
    "            print(\"NOT ELIGIBLE\")\n",
    "            cate=\"NOT ELIGIBLE\"\n",
    "        return cate\n",
    "\n",
    "    def percentage():\n",
    "        print(\"Findpercent.percentage()\")\n",
    "        Tamil=int(input(\"Subject1=\"))\n",
    "        English=int(input(\"Subject2=\"))\n",
    "        Maths=int(input(\"Subject3=\"))\n",
    "        Social=int(input(\"Subject4=\"))\n",
    "        Science=int(input(\"Subject5=\"))\n",
    "        print()\n",
    "        total=Tamil+English+Maths+Social+Science\n",
    "        print(\"Total Score: \",total)\n",
    "        percentage = (total/500)*100\n",
    "        print(\"Percentage= \",percentage,\"%\")\n",
    "\n",
    "    def triangle():\n",
    "        Height=int(input(\"Height:\"))\n",
    "        Breadth=int(input(\"Breadth:\"))\n",
    "        areaOfTriangle=(Height*Breadth)/2\n",
    "        print(\"Area formula: (Height*Breadth)/2\")\n",
    "        print(\"Area of Triangle:\",areaOfTriangle)\n",
    "        Height1=int(input(\"Height1:\"))\n",
    "        Height2=int(input(\"Height2:\"))\n",
    "        Breadth=int(input(\"Breadth:\"))\n",
    "        perimeterOfTriangle=Height1+Height2+Breadth\n",
    "        print(\"Perimeter formula: Height1+Height2+Breadth\")\n",
    "        print(\"Perimeter of Triangle:\",perimeterOfTriangle)"
   ]
  },
  {
   "cell_type": "code",
   "execution_count": 24,
   "id": "c75dc91a-14b2-4187-8f92-9659dd4cbe1f",
   "metadata": {},
   "outputs": [
    {
     "name": "stdout",
     "output_type": "stream",
     "text": [
      "Subfields AI are:\n",
      "Machine Learning\n",
      "Nural Network\n",
      "Vision\n",
      "Robotics\n",
      "Speech Processing\n",
      "Natural Language Processing\n"
     ]
    }
   ],
   "source": [
    "allmultiplesfunctions.Subfields()"
   ]
  },
  {
   "cell_type": "code",
   "execution_count": 25,
   "id": "b2e2a03a-a501-4d99-ba31-f316e1789555",
   "metadata": {},
   "outputs": [
    {
     "name": "stdin",
     "output_type": "stream",
     "text": [
      "Enter a number: 54324\n"
     ]
    },
    {
     "name": "stdout",
     "output_type": "stream",
     "text": [
      "52452 is Even number\n"
     ]
    },
    {
     "data": {
      "text/plain": [
       "'52452 is Even number'"
      ]
     },
     "execution_count": 25,
     "metadata": {},
     "output_type": "execute_result"
    }
   ],
   "source": [
    "allmultiplesfunctions.OddEven()"
   ]
  },
  {
   "cell_type": "code",
   "execution_count": 27,
   "id": "916e6a07-92c2-4c38-95fd-973077f44617",
   "metadata": {},
   "outputs": [
    {
     "name": "stdin",
     "output_type": "stream",
     "text": [
      "Your Gender: Male\n",
      "Your Age: 20\n"
     ]
    },
    {
     "name": "stdout",
     "output_type": "stream",
     "text": [
      "NOT ELIGIBLE\n"
     ]
    },
    {
     "data": {
      "text/plain": [
       "'NOT ELIGIBLE'"
      ]
     },
     "execution_count": 27,
     "metadata": {},
     "output_type": "execute_result"
    }
   ],
   "source": [
    "allmultiplesfunctions.Elegible()"
   ]
  },
  {
   "cell_type": "code",
   "execution_count": 28,
   "id": "9c1bdd75-5726-4b17-9fbe-63c0331622ec",
   "metadata": {},
   "outputs": [
    {
     "name": "stdout",
     "output_type": "stream",
     "text": [
      "Findpercent.percentage()\n"
     ]
    },
    {
     "name": "stdin",
     "output_type": "stream",
     "text": [
      "Subject1= 67\n",
      "Subject2= 89\n",
      "Subject3= 90\n",
      "Subject4= 99\n",
      "Subject5= 87\n"
     ]
    },
    {
     "name": "stdout",
     "output_type": "stream",
     "text": [
      "\n",
      "Total Score:  432\n",
      "Percentage=  86.4 %\n"
     ]
    }
   ],
   "source": [
    "allmultiplesfunctions.percentage()"
   ]
  },
  {
   "cell_type": "code",
   "execution_count": 29,
   "id": "f44a8053-530f-4467-b3cc-2cea5ec5b631",
   "metadata": {},
   "outputs": [
    {
     "name": "stdin",
     "output_type": "stream",
     "text": [
      "Height: 32\n",
      "Breadth: 34\n"
     ]
    },
    {
     "name": "stdout",
     "output_type": "stream",
     "text": [
      "Area formula: (Height*Breadth)/2\n",
      "Area of Triangle: 544.0\n"
     ]
    },
    {
     "name": "stdin",
     "output_type": "stream",
     "text": [
      "Height1: 2\n",
      "Height2: 4\n",
      "Breadth: 4\n"
     ]
    },
    {
     "name": "stdout",
     "output_type": "stream",
     "text": [
      "Perimeter formula: Height1+Height2+Breadth\n",
      "Perimeter of Triangle: 10\n"
     ]
    }
   ],
   "source": [
    "allmultiplesfunctions.triangle()"
   ]
  },
  {
   "cell_type": "code",
   "execution_count": null,
   "id": "ec31b447-9f38-4044-bea8-bc57fea5be41",
   "metadata": {},
   "outputs": [],
   "source": []
  }
 ],
 "metadata": {
  "kernelspec": {
   "display_name": "Python 3 (ipykernel)",
   "language": "python",
   "name": "python3"
  },
  "language_info": {
   "codemirror_mode": {
    "name": "ipython",
    "version": 3
   },
   "file_extension": ".py",
   "mimetype": "text/x-python",
   "name": "python",
   "nbconvert_exporter": "python",
   "pygments_lexer": "ipython3",
   "version": "3.12.7"
  }
 },
 "nbformat": 4,
 "nbformat_minor": 5
}
